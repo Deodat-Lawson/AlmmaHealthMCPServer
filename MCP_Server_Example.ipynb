{
 "cells": [
  {
   "metadata": {},
   "cell_type": "code",
   "source": [
    "from langsmith import expect\n",
    "# Installing necessary dependencies to run MCP\n",
    "!pip install arxiv python-dotenv anthropic\n",
    "# Installing the MCP sercer code\n",
    "!pip install \"mcp[cli]\""
   ],
   "id": "fff977091eebb858",
   "outputs": [],
   "execution_count": null
  },
  {
   "metadata": {
    "ExecuteTime": {
     "end_time": "2025-06-21T22:34:09.783784Z",
     "start_time": "2025-06-21T22:34:09.777886Z"
    }
   },
   "cell_type": "code",
   "source": [
    "%%writefile research_server.py\n",
    "\n",
    "import arxiv\n",
    "import json\n",
    "import os\n",
    "from typing import List\n",
    "from typing import List\n",
    "from mcp.server.fastmcp import FastMCP\n"
   ],
   "id": "9df7de428e233a00",
   "outputs": [
    {
     "name": "stdout",
     "output_type": "stream",
     "text": [
      "Overwriting research_server.py\n"
     ]
    }
   ],
   "execution_count": 21
  },
  {
   "metadata": {
    "ExecuteTime": {
     "end_time": "2025-06-21T22:34:12.700049Z",
     "start_time": "2025-06-21T22:34:12.697700Z"
    }
   },
   "cell_type": "code",
   "source": "PAPER_DIR = \"papers\"",
   "id": "3cd510dd80d964ff",
   "outputs": [],
   "execution_count": 22
  },
  {
   "metadata": {
    "ExecuteTime": {
     "end_time": "2025-06-21T22:34:56.577974Z",
     "start_time": "2025-06-21T22:34:56.518458Z"
    }
   },
   "cell_type": "code",
   "source": "mcp = FastMCP(\"research\")",
   "id": "5d171798c2ea3d39",
   "outputs": [],
   "execution_count": 23
  },
  {
   "metadata": {},
   "cell_type": "markdown",
   "source": "The first tool searches for relevant arXiv papers based on a topic and stores the papers' info in a JSON file (title, authors, summary, paper url and the publication date). The JSON files are organized by topics in the papers directory. The tool does not download the papers.",
   "id": "7c51e05023fc3cc5"
  },
  {
   "metadata": {
    "ExecuteTime": {
     "end_time": "2025-06-21T23:00:25.585698Z",
     "start_time": "2025-06-21T23:00:25.482673Z"
    }
   },
   "cell_type": "code",
   "source": [
    "@mcp.tool()\n",
    "def search_papers(topic: str, max_results: int = 5) -> List[str]:\n",
    "    \"\"\"\n",
    "    Search for papers on arXiv based on a topic and store their information.\n",
    "\n",
    "    Args:\n",
    "        topic: The topic to search for\n",
    "        max_results: Maximum number of results to retrieve (default: 5)\n",
    "\n",
    "    Returns:\n",
    "        List of paper IDs found in the search\n",
    "    \"\"\"\n",
    "    client = arxiv.Client()\n",
    "    search = arxiv.Search(\n",
    "        query = topic,\n",
    "        max_results = max_results,\n",
    "        sort_by = arxiv.SortCriterion.Relevance\n",
    "    )\n",
    "\n",
    "    papers = client.results(search)\n",
    "\n",
    "    path = os.path.join(PAPER_DIR, topic.lower().replace(\" \", \"_\"))\n",
    "    os.makedirs(path, exist_ok=True)\n",
    "\n",
    "    file_path = os.path.join(path, \"papers_info.json\")\n",
    "\n",
    "    try:\n",
    "        with open(file_path, \"r\") as json_file:\n",
    "            papers_info = json.load(json_file)\n",
    "    except (FileNotFoundError, json.JSONDecodeError):\n",
    "        papers_info = {}\n",
    "\n",
    "    paper_ids = []\n",
    "    for paper in papers:\n",
    "        paper_ids.append(paper.get_short_id())\n",
    "        paper_info = {\n",
    "            'title': paper.title,\n",
    "            'authors': [author.name for author in paper.authors],\n",
    "            'summary': paper.summary,\n",
    "            'pdf_url': paper.pdf_url,\n",
    "            'published': str(paper.published.date())\n",
    "        }\n",
    "        papers_info[paper.get_short_id()] = paper_info\n",
    "\n",
    "    with open(file_path, \"w\") as json_file:\n",
    "        json.dump(papers_info, json_file, indent=2)\n",
    "\n",
    "    print(f\"Results are saved in: {file_path}\")\n",
    "\n",
    "    return paper_ids\n",
    "\n",
    "\n",
    "@mcp.tool()\n",
    "def extract_info(paper_id: str) -> str:\n",
    "    for item in os.listdir(PAPER_DIR):\n",
    "        item_path = os.path.join(PAPER_DIR, item)\n",
    "        if os.path.isdir(item_path):\n",
    "            file_path = os.path.join(item_path, \"papers_info.json\")\n",
    "            if os.path.isfile(file_path):\n",
    "                try:\n",
    "                    with open(file_path, \"r\") as json_file:\n",
    "                        papers_info = json.load(json_file)\n",
    "                        if paper_id in papers_info:\n",
    "                            return json.dumps(papers_info[paper_id], indent=2)\n",
    "                except (FileNotFoundError, json.JSONDecodeError) as e:\n",
    "                    print(f\"Error reading {file_path}: {str(e)}\")\n",
    "                    continue\n",
    "        return f\"There's no saved information related to {paper_id}\"\n",
    "\n",
    "if __name__ == \"__main__\":\n",
    "    mcp.run(transport='stdio')"
   ],
   "id": "fe8a57a0326b887c",
   "outputs": [
    {
     "ename": "RuntimeError",
     "evalue": "Already running asyncio in this thread",
     "output_type": "error",
     "traceback": [
      "\u001B[0;31m---------------------------------------------------------------------------\u001B[0m",
      "\u001B[0;31mRuntimeError\u001B[0m                              Traceback (most recent call last)",
      "Cell \u001B[0;32mIn[24], line 71\u001B[0m\n\u001B[1;32m     68\u001B[0m         \u001B[38;5;28;01mreturn\u001B[39;00m \u001B[38;5;124mf\u001B[39m\u001B[38;5;124m\"\u001B[39m\u001B[38;5;124mThere\u001B[39m\u001B[38;5;124m'\u001B[39m\u001B[38;5;124ms no saved information related to \u001B[39m\u001B[38;5;132;01m{\u001B[39;00mpaper_id\u001B[38;5;132;01m}\u001B[39;00m\u001B[38;5;124m\"\u001B[39m\n\u001B[1;32m     70\u001B[0m \u001B[38;5;28;01mif\u001B[39;00m \u001B[38;5;18m__name__\u001B[39m \u001B[38;5;241m==\u001B[39m \u001B[38;5;124m\"\u001B[39m\u001B[38;5;124m__main__\u001B[39m\u001B[38;5;124m\"\u001B[39m:\n\u001B[0;32m---> 71\u001B[0m     mcp\u001B[38;5;241m.\u001B[39mrun(transport\u001B[38;5;241m=\u001B[39m\u001B[38;5;124m'\u001B[39m\u001B[38;5;124mstdio\u001B[39m\u001B[38;5;124m'\u001B[39m)\n",
      "File \u001B[0;32m~/anaconda3/lib/python3.11/site-packages/mcp/server/fastmcp/server.py:217\u001B[0m, in \u001B[0;36mFastMCP.run\u001B[0;34m(self, transport, mount_path)\u001B[0m\n\u001B[1;32m    212\u001B[0m \u001B[38;5;28;01mif\u001B[39;00m transport \u001B[38;5;129;01mnot\u001B[39;00m \u001B[38;5;129;01min\u001B[39;00m TRANSPORTS\u001B[38;5;241m.\u001B[39m__args__:  \u001B[38;5;66;03m# type: ignore\u001B[39;00m\n\u001B[1;32m    213\u001B[0m     \u001B[38;5;28;01mraise\u001B[39;00m \u001B[38;5;167;01mValueError\u001B[39;00m(\u001B[38;5;124mf\u001B[39m\u001B[38;5;124m\"\u001B[39m\u001B[38;5;124mUnknown transport: \u001B[39m\u001B[38;5;132;01m{\u001B[39;00mtransport\u001B[38;5;132;01m}\u001B[39;00m\u001B[38;5;124m\"\u001B[39m)\n\u001B[1;32m    215\u001B[0m \u001B[38;5;28;01mmatch\u001B[39;00m transport:\n\u001B[1;32m    216\u001B[0m     \u001B[38;5;28;01mcase\u001B[39;00m \u001B[38;5;124m\"\u001B[39m\u001B[38;5;124mstdio\u001B[39m\u001B[38;5;124m\"\u001B[39m:\n\u001B[0;32m--> 217\u001B[0m         anyio\u001B[38;5;241m.\u001B[39mrun(\u001B[38;5;28mself\u001B[39m\u001B[38;5;241m.\u001B[39mrun_stdio_async)\n\u001B[1;32m    218\u001B[0m     \u001B[38;5;28;01mcase\u001B[39;00m \u001B[38;5;124m\"\u001B[39m\u001B[38;5;124msse\u001B[39m\u001B[38;5;124m\"\u001B[39m:\n\u001B[1;32m    219\u001B[0m         anyio\u001B[38;5;241m.\u001B[39mrun(\u001B[38;5;28;01mlambda\u001B[39;00m: \u001B[38;5;28mself\u001B[39m\u001B[38;5;241m.\u001B[39mrun_sse_async(mount_path))\n\u001B[1;32m    220\u001B[0m     \u001B[38;5;28;01mcase\u001B[39;00m \u001B[38;5;124m\"\u001B[39m\u001B[38;5;124mstreamable-http\u001B[39m\u001B[38;5;124m\"\u001B[39m:\n\u001B[1;32m    221\u001B[0m         anyio\u001B[38;5;241m.\u001B[39mrun(\u001B[38;5;28mself\u001B[39m\u001B[38;5;241m.\u001B[39mrun_streamable_http_async)\n",
      "File \u001B[0;32m~/anaconda3/lib/python3.11/site-packages/anyio/_core/_eventloop.py:42\u001B[0m, in \u001B[0;36mrun\u001B[0;34m(func, backend, backend_options, *args)\u001B[0m\n\u001B[1;32m     31\u001B[0m \u001B[38;5;28;01mdef\u001B[39;00m \u001B[38;5;21mrun\u001B[39m(\n\u001B[1;32m     32\u001B[0m     func: Callable[[Unpack[PosArgsT]], Awaitable[T_Retval]],\n\u001B[1;32m     33\u001B[0m     \u001B[38;5;241m*\u001B[39margs: Unpack[PosArgsT],\n\u001B[1;32m     34\u001B[0m     backend: \u001B[38;5;28mstr\u001B[39m \u001B[38;5;241m=\u001B[39m \u001B[38;5;124m\"\u001B[39m\u001B[38;5;124masyncio\u001B[39m\u001B[38;5;124m\"\u001B[39m,\n\u001B[1;32m     35\u001B[0m     backend_options: \u001B[38;5;28mdict\u001B[39m[\u001B[38;5;28mstr\u001B[39m, Any] \u001B[38;5;241m|\u001B[39m \u001B[38;5;28;01mNone\u001B[39;00m \u001B[38;5;241m=\u001B[39m \u001B[38;5;28;01mNone\u001B[39;00m,\n\u001B[1;32m     36\u001B[0m ) \u001B[38;5;241m-\u001B[39m\u001B[38;5;241m>\u001B[39m T_Retval:\n\u001B[1;32m     37\u001B[0m \u001B[38;5;250m    \u001B[39m\u001B[38;5;124;03m\"\"\"\u001B[39;00m\n\u001B[1;32m     38\u001B[0m \u001B[38;5;124;03m    Run the given coroutine function in an asynchronous event loop.\u001B[39;00m\n\u001B[1;32m     39\u001B[0m \n\u001B[1;32m     40\u001B[0m \u001B[38;5;124;03m    The current thread must not be already running an event loop.\u001B[39;00m\n\u001B[1;32m     41\u001B[0m \n\u001B[0;32m---> 42\u001B[0m \u001B[38;5;124;03m    :param func: a coroutine function\u001B[39;00m\n\u001B[1;32m     43\u001B[0m \u001B[38;5;124;03m    :param args: positional arguments to ``func``\u001B[39;00m\n\u001B[1;32m     44\u001B[0m \u001B[38;5;124;03m    :param backend: name of the asynchronous event loop implementation – currently\u001B[39;00m\n\u001B[1;32m     45\u001B[0m \u001B[38;5;124;03m        either ``asyncio`` or ``trio``\u001B[39;00m\n\u001B[1;32m     46\u001B[0m \u001B[38;5;124;03m    :param backend_options: keyword arguments to call the backend ``run()``\u001B[39;00m\n\u001B[1;32m     47\u001B[0m \u001B[38;5;124;03m        implementation with (documented :ref:`here <backend options>`)\u001B[39;00m\n\u001B[1;32m     48\u001B[0m \u001B[38;5;124;03m    :return: the return value of the coroutine function\u001B[39;00m\n\u001B[1;32m     49\u001B[0m \u001B[38;5;124;03m    :raises RuntimeError: if an asynchronous event loop is already running in this\u001B[39;00m\n\u001B[1;32m     50\u001B[0m \u001B[38;5;124;03m        thread\u001B[39;00m\n\u001B[1;32m     51\u001B[0m \u001B[38;5;124;03m    :raises LookupError: if the named backend is not found\u001B[39;00m\n\u001B[1;32m     52\u001B[0m \n\u001B[1;32m     53\u001B[0m \u001B[38;5;124;03m    \"\"\"\u001B[39;00m\n\u001B[1;32m     54\u001B[0m     \u001B[38;5;28;01mtry\u001B[39;00m:\n\u001B[1;32m     55\u001B[0m         asynclib_name \u001B[38;5;241m=\u001B[39m sniffio\u001B[38;5;241m.\u001B[39mcurrent_async_library()\n",
      "\u001B[0;31mRuntimeError\u001B[0m: Already running asyncio in this thread"
     ]
    }
   ],
   "execution_count": 24
  },
  {
   "metadata": {},
   "cell_type": "markdown",
   "source": "Testing the functionalities of search_paper by plugging in examples",
   "id": "36ee6a2881f20afc"
  },
  {
   "metadata": {},
   "cell_type": "code",
   "outputs": [],
   "execution_count": null,
   "source": "supply_and_demand_papers = search_papers(\"supply and demand\")",
   "id": "4e82eb13eea3d4e1"
  },
  {
   "metadata": {},
   "cell_type": "code",
   "outputs": [],
   "execution_count": null,
   "source": "",
   "id": "dd1d4cc53289730f"
  },
  {
   "metadata": {},
   "cell_type": "code",
   "outputs": [],
   "execution_count": null,
   "source": "extract_info(supply_and_demand_papers[1])",
   "id": "ad64753f8c4bb505"
  }
 ],
 "metadata": {
  "kernelspec": {
   "display_name": "Python 3",
   "language": "python",
   "name": "python3"
  },
  "language_info": {
   "codemirror_mode": {
    "name": "ipython",
    "version": 2
   },
   "file_extension": ".py",
   "mimetype": "text/x-python",
   "name": "python",
   "nbconvert_exporter": "python",
   "pygments_lexer": "ipython2",
   "version": "2.7.6"
  }
 },
 "nbformat": 4,
 "nbformat_minor": 5
}
